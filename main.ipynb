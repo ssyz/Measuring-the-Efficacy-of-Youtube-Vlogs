{
 "cells": [
  {
   "cell_type": "code",
   "execution_count": 14,
   "metadata": {},
   "outputs": [],
   "source": [
    "import networkx as nx\n",
    "import csv\n",
    "import pickle\n",
    "import matplotlib.pyplot as plt\n",
    "from matplotlib import pylab"
   ]
  },
  {
   "cell_type": "code",
   "execution_count": 15,
   "metadata": {},
   "outputs": [],
   "source": [
    "with open('pblist.pkl', 'rb') as f:\n",
    "        pb = pickle.load(f)\n",
    "del pb[0]"
   ]
  },
  {
   "cell_type": "code",
   "execution_count": 16,
   "metadata": {},
   "outputs": [],
   "source": [
    "G = nx.Graph()"
   ]
  },
  {
   "cell_type": "code",
   "execution_count": 17,
   "metadata": {},
   "outputs": [],
   "source": [
    "for row in pb:\n",
    "        G.add_node(row[0], up=row[1], age=row[2], cat=row[3], len=row[4], views=row[5], rate=row[6], ratings=row[7], comm=row[8], numrel=row[9], ap=row[10])\n",
    "        edge_list = []\n",
    "        for relid in row[11:]:\n",
    "            edge_list.append((row[0], relid))\n",
    "        if len(edge_list) > 0:\n",
    "            G.add_edges_from(edge_list)"
   ]
  },
  {
   "cell_type": "code",
   "execution_count": 18,
   "metadata": {},
   "outputs": [
    {
     "data": {
      "text/plain": [
       "42052"
      ]
     },
     "execution_count": 18,
     "metadata": {},
     "output_type": "execute_result"
    }
   ],
   "source": [
    "G.number_of_nodes()"
   ]
  },
  {
   "cell_type": "code",
   "execution_count": 19,
   "metadata": {},
   "outputs": [
    {
     "data": {
      "text/plain": [
       "51563"
      ]
     },
     "execution_count": 19,
     "metadata": {},
     "output_type": "execute_result"
    }
   ],
   "source": [
    "G.number_of_edges()"
   ]
  },
  {
   "cell_type": "code",
   "execution_count": 7,
   "metadata": {},
   "outputs": [],
   "source": [
    "nodes = list(G.nodes)"
   ]
  },
  {
   "cell_type": "code",
   "execution_count": 20,
   "metadata": {},
   "outputs": [
    {
     "data": {
      "text/plain": [
       "{'up': 'charlieissocoollike',\n",
       " 'age': '1257',\n",
       " 'cat': 'People & Blogs',\n",
       " 'len': '175',\n",
       " 'views': '46592',\n",
       " 'rate': '4.88',\n",
       " 'ratings': '1333',\n",
       " 'comm': '1606',\n",
       " 'numrel': '20',\n",
       " 'ap': '1496.8'}"
      ]
     },
     "execution_count": 20,
     "metadata": {},
     "output_type": "execute_result"
    }
   ],
   "source": [
    "G.nodes['n7Oxb5kaBBE']"
   ]
  },
  {
   "cell_type": "code",
   "execution_count": null,
   "metadata": {},
   "outputs": [],
   "source": [
    "nx.draw_circular(G, with_labels=True)\n",
    "plt.show()"
   ]
  },
  {
   "cell_type": "code",
   "execution_count": null,
   "metadata": {},
   "outputs": [],
   "source": [
    "options = {\n",
    "    'node_color': 'black',\n",
    "    'node_size': 50,\n",
    "    'line_color': 'grey',\n",
    "    'linewidths': 0,\n",
    "    'width': 0.1,\n",
    "}\n",
    "nx.draw(G, **options)\n",
    "plt.show()"
   ]
  },
  {
   "cell_type": "code",
   "execution_count": null,
   "metadata": {},
   "outputs": [],
   "source": [
    "nx.draw(G)"
   ]
  },
  {
   "cell_type": "code",
   "execution_count": 12,
   "metadata": {},
   "outputs": [],
   "source": [
    " def save_graph(graph,file_name):\n",
    "    #initialze Figure\n",
    "    plt.figure(num=None, figsize=(20, 20), dpi=80)\n",
    "    plt.axis('off')\n",
    "    fig = plt.figure(1)\n",
    "    pos = nx.spring_layout(graph)\n",
    "    nx.draw_networkx_nodes(graph,pos)\n",
    "    nx.draw_networkx_edges(graph,pos)\n",
    "    nx.draw_networkx_labels(graph,pos)\n",
    "\n",
    "    cut = 1.00\n",
    "    xmax = cut * max(xx for xx, yy in pos.values())\n",
    "    ymax = cut * max(yy for xx, yy in pos.values())\n",
    "    plt.xlim(0, xmax)\n",
    "    plt.ylim(0, ymax)\n",
    "\n",
    "    plt.savefig(file_name,bbox_inches=\"tight\")\n",
    "    pylab.close()\n",
    "    del fig"
   ]
  },
  {
   "cell_type": "code",
   "execution_count": null,
   "metadata": {},
   "outputs": [],
   "source": [
    "save_graph(G,\"my_graph.pdf\")"
   ]
  },
  {
   "cell_type": "code",
   "execution_count": 12,
   "metadata": {},
   "outputs": [
    {
     "data": {
      "text/plain": [
       "42052"
      ]
     },
     "execution_count": 12,
     "metadata": {},
     "output_type": "execute_result"
    }
   ],
   "source": [
    "len(nodes)"
   ]
  },
  {
   "cell_type": "code",
   "execution_count": 50,
   "metadata": {},
   "outputs": [],
   "source": [
    "import random"
   ]
  },
  {
   "cell_type": "code",
   "execution_count": 41,
   "metadata": {},
   "outputs": [],
   "source": [
    "rand_sources = random.sample(nodes, 50)\n",
    "rand_targets = random.sample(nodes, 50)"
   ]
  },
  {
   "cell_type": "code",
   "execution_count": 42,
   "metadata": {},
   "outputs": [],
   "source": [
    "bcsub = nx.betweenness_centrality_subset(G, rand_sources, rand_targets)"
   ]
  },
  {
   "cell_type": "code",
   "execution_count": 43,
   "metadata": {},
   "outputs": [
    {
     "name": "stdout",
     "output_type": "stream",
     "text": [
      "Ajvj82GCXqo,16.5,0\n",
      "4Z4fic7NvE0,1.25,10.2\n",
      "ldNWqO3Wl-U,5.166666666666667,0\n",
      "p9_RlK5o0aQ,5.166666666666667,17.4\n",
      "LBDuWJkyLhs,16.5,19.8\n",
      "dgkq3RZOAWU,5.166666666666667,0\n",
      "LUseNXhcc6I,16.499999999999996,0\n",
      "aa37ZBWdenM,3.3999999999999995,28\n",
      "Fw2KxSWs0hA,14.999999999999996,3.6\n",
      "kD3LTtYXl2A,7.499999999999998,0.6\n",
      "K0QmLAjbKmA,7.499999999999998,0.6\n",
      "gMK2x03-tWg,16.5,8\n",
      "mYcpx_bUBHk,8.25,2.2\n",
      "_N97nz-6HSc,8.25,1.2\n",
      "bnSKBaNFbuM,16.5,29.4\n",
      "7CitSWMJVKY,0.5,21.8\n",
      "q1U0Yu41tD0,14.999999999999998,2.4\n",
      "fZ_FEIrdXkA,7.249999999999999,3.4\n",
      "Ydj9SApBPN4,5.333333333333334,49.8\n",
      "p1kbNmBYxdY,20.33333333333334,4.6\n",
      "gkwIX9lCOaQ,14.749999999999998,2\n",
      "HyRgiX_Ay8U,19.066666666666666,14.8\n",
      "HbEMFLlNyLs,0.16666666666666666,8.8\n",
      "5bjVFwoeEoc,2.999999999999999,4.4\n",
      "8RKczar2av8,14.999999999999996,1.2\n",
      "t81ClUzyeLU,2.999999999999999,1.4\n",
      "DFkL9CzsdyU,2.999999999999999,0\n",
      "d5T1adiFvXc,2.999999999999999,0.4\n",
      "KIEWhAVrJzo,2.999999999999999,2\n",
      "tMz4dRwQJwo,16.5,13.8\n",
      "rTGPPjJZSNo,16.5,35.6\n",
      "MTrDA9kqeaM,16.5,2.4\n",
      "whubPa6hLWk,16.5,3.2\n",
      "bZNSme771xE,16.5,33.2\n",
      "LS-amg_Z1L0,16.5,12.2\n",
      "YomKIxL-YzQ,14.833333333333329,2.6\n",
      "1XTgnJg3RCw,14.999999999999995,14.4\n",
      "fbbxlkFGq-M,9.900000000000002,0\n",
      "-dflgk9oPHM,6.600000000000003,0\n",
      "Nhy5N_gkI9c,6.600000000000003,0.4\n",
      "Kaa3B1ILdms,6.600000000000003,0\n",
      "Y28Dh0ThiBI,3.3000000000000016,0.8\n",
      "rEbBNHcpzuM,16.5,2.2\n",
      "5H2gWg1E75w,16.5,1.2\n",
      "_DEtqDQ7ThU,14.999999999999996,1.4\n",
      "Tj_7XUPaF-c,9.374999999999998,0\n",
      "irTBDp7EZo0,5.624999999999998,3\n",
      "l8SMOoJD4N8,3.749999999999999,0.6\n",
      "uTqHMJSYQTU,3.749999999999999,1.2\n",
      "LiMNFPVsH08,3.749999999999999,0\n",
      "tIjbSD6kdYY,14.999999999999996,147\n",
      "QqjTkUCDgis,14.999999999999996,9\n",
      "sU5OoomvN-8,2.8999999999999995,0\n",
      "oEcTcPv4KoI,0.7249999999999999,2.4\n",
      "x22pFFcM_kU,0.7249999999999999,5.2\n",
      "oyO05owsWmo,6.524999999999999,1.6\n",
      "MuUMdYDm_CA,0.7249999999999999,2.6\n",
      "VmjtGqXtwEI,2.8999999999999995,10.4\n",
      "Bmoi_3aFCKE,2.8999999999999995,7.2\n",
      "evCJXyKnHSg,2.8999999999999995,2.6\n",
      "VsK8aQzYhJE,5.500000000000001,8\n",
      "aoMACL0tzoI,8.25,1\n",
      "xXWEZNuo9LU,2.7500000000000004,0.4\n",
      "M1vA4OJILuE,5.500000000000001,0.4\n",
      "Aa-uDFgC1_w,2.7500000000000004,1.8\n",
      "qUKeqK5qNNQ,8.25,0.4\n",
      "34za1JeS7Ho,14.999999999999996,7\n",
      "z2mVXe08RH8,3.749999999999999,2.4\n",
      "Gta6Mljc-7I,3.749999999999999,5.4\n",
      "I5xMtuXO248,3.749999999999999,15.4\n",
      "FDoVvkWdeJw,3.749999999999999,1.6\n",
      "NMBRprNUE5w,16.5,1.4\n",
      "GgyHSJV_AK0,0.5,186.2\n",
      "5ixo9XvNepU,16.0,191\n",
      "0PNVHN3yELk,14.999999999999996,16.8\n",
      "EBpwZx436nQ,14.999999999999996,4.6\n",
      "BZbOQqtDAW0,0.08333333333333333,33.6\n",
      "2bJ0EGK4R4k,14.999999999999996,13\n",
      "YP3BbjhAw5g,7.249999999999999,1.6\n",
      "gG85O-8CUw0,14.999999999999998,10.4\n",
      "kk8h8FBnV2I,3.325000000000002,29.4\n",
      "HWQpU1RA3oU,1.6000000000000008,8.6\n",
      "2rksAiNRW6I,1.6000000000000008,6.2\n",
      "U6mgA3zzcNo,1.0666666666666667,2.6\n",
      "4FRk-KSw_g0,1.0666666666666667,0.4\n",
      "VvnoXobyv1g,3.2000000000000015,0.4\n",
      "RclQDjn4UHQ,16.5,27\n",
      "DzSWWTlqsAw,14.749999999999996,1.2\n",
      "cgdbOxzYshE,0.08333333333333333,7.2\n",
      "iLTdqaBY9So,0.08333333333333333,8\n",
      "f5ufIveIEKc,8.125,2\n",
      "A2dwkZ8-PDE,8.125,1.6\n",
      "BtCjCJyP380,14.999999999999996,6.6\n",
      "XWrX8MlxkQE,14.999999999999996,10.8\n",
      "qK5Y4awOibs,5.166666666666667,11.6\n",
      "I6C079CyfTc,4.791666666666668,8\n",
      "3U5XGNiJkSM,0.25,9.8\n",
      "WXvY3h2yDSU,0.16666666666666666,7.8\n",
      "1yXRBGHCP0w,5.166666666666667,10.8\n",
      "kLYUupiiTG8,5.166666666666667,28\n",
      "PrIGPH6ZsiM,4.791666666666668,5.6\n",
      "H7aN8-FZZRM,16.5,4.6\n",
      "y8aE11gjL-0,4.791666666666668,12.6\n",
      "VPVsKoBY9V4,4.791666666666668,2.6\n",
      "vD0UFc8iEhk,1.7499999999999996,12.2\n",
      "wSyVNNQzgKY,1.7499999999999996,4.2\n",
      "juz_LxaMgVs,1.7499999999999996,1\n",
      "70-jyjAOhH4,1.7499999999999996,8.6\n",
      "0D3V-bnqeSo,1.7499999999999996,0.4\n",
      "UKXvPfc2Uyk,1.7499999999999996,0.4\n",
      "FqCN_kui7mI,1.7499999999999996,3\n",
      "UUvhAxTLvrU,1.7499999999999996,0\n",
      "cuAqhbfdyzE,14.999999999999998,7\n",
      "hdtvI-00LAU,7.249999999999997,0.4\n",
      "bt9Sbbi7xdQ,14.999999999999995,0.4\n",
      "CbY8Q8v8f_o,37.74999999999999,12\n",
      "zbz6ruTlPUM,16.5,9.8\n",
      "7yyQe47Dgj0,16.5,28.6\n",
      "G5H8ZMRk1oQ,14.499999999999996,0.6\n",
      "TxkNX9ityz4,14.499999999999996,0\n",
      "Hn5dsfVYhAU,8.0,3.8\n",
      "tiBzBujTWvg,16.5,4.6\n",
      "b1c67rO__9s,8.0,9\n",
      "jmYw_vZsWC4,4.0,1.2\n",
      "nZnmZN42FEg,4.0,0.8\n",
      "gs48xUO7pkk,14.999999999999996,11.8\n",
      "0_avk4AIWL8,14.999999999999996,2.8\n",
      "-kMelGfokMQ,16.5,20.6\n",
      "nus__3iBk88,0.16666666666666666,7.6\n",
      "rCXg45gerj0,16.333333333333336,2\n",
      "AiXaHiqZJPw,18.9,0\n",
      "ZWNwfg1j5Co,0.16666666666666666,5.2\n",
      "hzTeiX4sqe0,14.999999999999996,136.2\n",
      "ynMzUDw-ORg,1.6666666666666663,103.4\n",
      "sZGebKkd-nQ,1.6666666666666663,78\n",
      "3gqeA_HuIbo,4.166666666666666,25.2\n",
      "svJQWn4PxNo,7.499999999999998,10.4\n",
      "iSUTnRKJ0Zs,4.999999999999999,11.6\n",
      "q38uxI3EKqs,16.5,12.2\n",
      "CbyNSfPv6fU,16.5,39.4\n",
      "SBbvwvC4eLQ,8.166666666666668,0.6\n",
      "5d-THYDnC3s,8.166666666666668,5\n",
      "GrhDpXsadsg,9.999999999999993,5.6\n",
      "05RU06pyed8,7.249999999999998,0\n",
      "WPDM4qmsoCg,29.999999999999996,12.2\n",
      "26YI36jdGfI,30.499999999999996,40.2\n",
      "AOdvLcIeVLQ,9.999999999999993,3.8\n",
      "wipUBj2qRlU,9.999999999999993,3\n",
      "wVnZ-uZPsO0,14.999999999999996,0\n",
      "ggANGM_PC6A,14.999999999999996,0\n",
      "IYstxBc0ZjQ,14.999999999999996,50.8\n",
      "7Qpp02XYnDA,14.999999999999996,99\n",
      "GnNBCcGybBs,16.5,1.2\n",
      "sf3wewMOzTQ,16.5,13.6\n",
      "QpREq98LgQg,8.25,1.4\n",
      "NPnoGQIzYYQ,8.25,0.4\n",
      "VvDcYce8ff8,8.25,0\n",
      "ZPVTwwIbnMI,8.25,0\n",
      "lu5Ui9I3dlw,16.5,3.2\n",
      "tvMhY-102KQ,14.999999999999996,0\n",
      "9npz57a1r4U,14.999999999999996,277.8\n",
      "YONe-WENvcU,8.25,1141\n",
      "6WXbCXwCN8o,16.5,7.2\n",
      "TelV3Br8Hh4,16.5,8.6\n",
      "_kAWu37EDd4,16.25,9.4\n",
      "vwhdo-kMgrc,16.5,1.4\n",
      "EbXL3W4a1dM,3.749999999999999,0\n",
      "Fe2zjXr_6dA,16.5,1.4\n",
      "LJ2szSVoCu4,16.5,4.8\n",
      "jxGfF4NaP8E,2.8999999999999995,0.4\n",
      "NSBnIWT1yVw,16.5,64.2\n",
      "v65q6CfScQI,16.5,433.6\n",
      "-xrs-qKx0c8,14.999999999999996,3.4\n",
      "x9nSy9XBeeE,14.999999999999996,0.8\n",
      "2X-ea0UWw0c,14.999999999999996,2.2\n",
      "82pJBPzBhxI,14.999999999999996,2.8\n",
      "Xq0INpd8CQo,14.999999999999996,1.6\n",
      "3t963Q3ZzIg,14.999999999999996,20\n",
      "y6Art6P2Srw,14.499999999999996,10.2\n",
      "J37OZOSFCjk,14.499999999999996,1.8\n",
      "Gz77KvxOcZU,14.999999999999996,10.8\n",
      "s6F4-C5TEWE,16.0,219\n",
      "9PjyUxk2axs,16.0,59.2\n",
      "VdM0KtPviSE,16.0,267.6\n",
      "xK009ukh6KE,9.975000000000001,8.2\n",
      "TNByqRbM4KM,9.600000000000001,5\n",
      "WlRxBWDNc04,16.5,12.6\n",
      "Y8-zFydu4pI,1.0666666666666667,2.4\n",
      "yGFgan8eD5c,7.499999999999998,4\n",
      "6AoJyGJ7jPw,7.499999999999998,2\n",
      "1-XwrErFALA,14.999999999999996,1.6\n",
      "chmANWyUfrs,0.25,62\n",
      "wqzihNoh3rA,23.749999999999996,27.2\n",
      "seWb3tj6TfM,14.999999999999995,16\n",
      "CM8DtViG3_w,58.999999999999986,32.8\n",
      "AHbcGeIilss,16.5,27.4\n",
      "Yt7vauiBQHg,44.499999999999986,12.8\n",
      "N1sc5RhQgQ8,16.5,5.6\n",
      "hvsTzYqRpdA,8.0,3\n",
      "6XEvjsVWfkg,14.999999999999996,3.8\n",
      "O0jC6zjFDJQ,14.999999999999996,5\n",
      "2ZvDEN_9dnI,7.499999999999998,3.4\n",
      "lf-ZpuFxFzM,7.499999999999998,0.4\n",
      "8V3Jcc0WIuk,14.999999999999996,0\n",
      "YStE-2NIM5g,14.999999999999996,0.6\n",
      "R8vNfpkW0iU,4.999999999999999,12.4\n",
      "Xu94SjPHU54,16.5,3.8\n",
      "GE_AAZnqi74,16.5,1.6\n",
      "HtQT5R2LSuU,4.999999999999999,4.6\n",
      "qRqi_kKEkEs,16.5,1.2\n",
      "IEHLBKJWGqI,16.5,0.8\n",
      "qDfPsu7GYHQ,16.5,0.8\n",
      "cLKz5qwp8HA,16.5,2\n",
      "iEVnYG3Bkks,14.999999999999996,100.6\n",
      "s3z9Iw9qOKY,14.999999999999996,1.6\n",
      "rOq-g2MIIdo,14.999999999999996,1.6\n",
      "I28Vty6VLuw,0.16666666666666666,51.8\n",
      "nXeEG-fP7Zs,7.249999999999998,2.8\n",
      "U0e1qkImfDk,14.999999999999996,14.6\n",
      "FPT7DgaPHbs,16.5,0.4\n",
      "gPI2Tp5Wgxs,16.5,7.8\n",
      "i9zObH3yc48,7.249999999999998,0\n",
      "fVWccTEiQcE,7.249999999999998,1\n",
      "n-nxtTvUZiI,14.999999999999996,80.8\n",
      "R-cP4mMJzzI,14.999999999999996,6.8\n"
     ]
    }
   ],
   "source": [
    "for k,v in bcsub.items():\n",
    "    if v > 0 and len(G.nodes[k]) > 0:\n",
    "        print (k + \",\" + str(v) + \",\" + str(G.nodes[k]['ap']))"
   ]
  },
  {
   "cell_type": "code",
   "execution_count": null,
   "metadata": {},
   "outputs": [],
   "source": [
    "from __future__ import division\n",
    "import matplotlib as mpl\n",
    "import matplotlib.pyplot as plt\n",
    "import networkx as nx\n",
    "\n",
    "pos = nx.layout.spring_layout(G)\n",
    "\n",
    "node_sizes = [3 + 10 * i for i in range(len(G))]\n",
    "M = G.number_of_edges()\n",
    "edge_colors = range(2, M + 2)\n",
    "edge_alphas = [(5 + i) / (M + 4) for i in range(M)]\n",
    "\n",
    "nodes = nx.draw_networkx_nodes(G, pos, node_size=node_sizes, node_color='blue')\n",
    "edges = nx.draw_networkx_edges(G, pos, node_size=node_sizes, arrowstyle='->',\n",
    "                               arrowsize=10, edge_color=edge_colors,\n",
    "                               edge_cmap=plt.cm.Blues, width=2)\n",
    "# set alpha value for each edge\n",
    "for i in range(M):\n",
    "    edges[i].set_alpha(edge_alphas[i])\n",
    "\n",
    "pc = mpl.collections.PatchCollection(edges, cmap=plt.cm.Blues)\n",
    "pc.set_array(edge_colors)\n",
    "plt.colorbar(pc)\n",
    "\n",
    "ax = plt.gca()\n",
    "ax.set_axis_off()\n",
    "plt.show()"
   ]
  },
  {
   "cell_type": "code",
   "execution_count": 66,
   "metadata": {},
   "outputs": [],
   "source": [
    "import csv\n",
    "\n",
    "with open('travelevents_related.csv') as csv_file:\n",
    "    csv_reader = csv.reader(csv_file, delimiter=',')\n",
    "    data = list(csv_reader)\n",
    "del data[0]\n",
    "\n",
    "DG = nx.DiGraph()\n",
    "for d in data:\n",
    "    if len(d) == 2:\n",
    "        DG.add_edges_from([(d[0],d[1])])\n",
    "    elif len(d) > 1:\n",
    "        temp = []\n",
    "        for x in range(1,len(d)):\n",
    "            temp.append((d[0], d[x]))\n",
    "        DG.add_edges_from(temp)"
   ]
  },
  {
   "cell_type": "code",
   "execution_count": 67,
   "metadata": {},
   "outputs": [
    {
     "data": {
      "text/plain": [
       "8125"
      ]
     },
     "execution_count": 67,
     "metadata": {},
     "output_type": "execute_result"
    }
   ],
   "source": [
    "DG.number_of_nodes()"
   ]
  },
  {
   "cell_type": "code",
   "execution_count": 68,
   "metadata": {},
   "outputs": [
    {
     "data": {
      "text/plain": [
       "11013"
      ]
     },
     "execution_count": 68,
     "metadata": {},
     "output_type": "execute_result"
    }
   ],
   "source": [
    "DG.number_of_edges()"
   ]
  },
  {
   "cell_type": "code",
   "execution_count": 57,
   "metadata": {},
   "outputs": [],
   "source": [
    "def get_cc(g):\n",
    "    print (nx.number_strongly_connected_components(g), nx.number_weakly_connected_components(g))"
   ]
  },
  {
   "cell_type": "code",
   "execution_count": null,
   "metadata": {},
   "outputs": [],
   "source": [
    "pos=nx.spring_layout(DG2)\n",
    "nx.draw(DG2, pos, with_labels=True)\n",
    "plt.savefig(\"graph.pdf\")"
   ]
  },
  {
   "cell_type": "code",
   "execution_count": 46,
   "metadata": {},
   "outputs": [],
   "source": [
    "nx.write_gpickle(DG, \"dg.gpickle\")"
   ]
  },
  {
   "cell_type": "code",
   "execution_count": 54,
   "metadata": {},
   "outputs": [
    {
     "data": {
      "text/plain": [
       "41159"
      ]
     },
     "execution_count": 54,
     "metadata": {},
     "output_type": "execute_result"
    }
   ],
   "source": [
    "DG2 = nx.read_gpickle(\"dg.gpickle\")\n",
    "nx.number_strongly_connected_components(DG2)"
   ]
  },
  {
   "cell_type": "code",
   "execution_count": 55,
   "metadata": {},
   "outputs": [
    {
     "data": {
      "text/plain": [
       "620"
      ]
     },
     "execution_count": 55,
     "metadata": {},
     "output_type": "execute_result"
    }
   ],
   "source": [
    "nx.number_weakly_connected_components(DG2)"
   ]
  },
  {
   "cell_type": "code",
   "execution_count": 69,
   "metadata": {},
   "outputs": [
    {
     "name": "stdout",
     "output_type": "stream",
     "text": [
      "7875 123\n"
     ]
    }
   ],
   "source": [
    "get_cc(DG)"
   ]
  },
  {
   "cell_type": "code",
   "execution_count": null,
   "metadata": {},
   "outputs": [],
   "source": []
  }
 ],
 "metadata": {
  "kernelspec": {
   "display_name": "Python 3",
   "language": "python",
   "name": "python3"
  },
  "language_info": {
   "codemirror_mode": {
    "name": "ipython",
    "version": 3
   },
   "file_extension": ".py",
   "mimetype": "text/x-python",
   "name": "python",
   "nbconvert_exporter": "python",
   "pygments_lexer": "ipython3",
   "version": "3.7.1"
  }
 },
 "nbformat": 4,
 "nbformat_minor": 2
}
